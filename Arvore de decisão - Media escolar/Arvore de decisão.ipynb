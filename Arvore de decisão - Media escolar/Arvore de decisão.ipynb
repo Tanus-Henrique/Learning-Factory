{
  "cells": [
    {
      "cell_type": "markdown",
      "metadata": {
        "id": "rCZnVYUslVzh"
      },
      "source": [
        "# **EXTRAÇÃO**"
      ]
    },
    {
      "cell_type": "code",
      "execution_count": 2,
      "metadata": {
        "colab": {
          "base_uri": "https://localhost:8080/",
          "height": 338
        },
        "id": "ffDb8DcEhQFk",
        "outputId": "26d8bc18-5d37-4b52-feb5-4a63420f29b1"
      },
      "outputs": [
        {
          "name": "stdout",
          "output_type": "stream",
          "text": [
            "   StudentID  Age  Gender  Ethnicity  ParentalEducation  StudyTimeWeekly  \\\n",
            "0       1001   17       1          0                  2        19.833723   \n",
            "1       1002   18       0          0                  1        15.408756   \n",
            "2       1003   15       0          2                  3         4.210570   \n",
            "3       1004   17       1          0                  3        10.028829   \n",
            "4       1005   17       1          0                  2         4.672495   \n",
            "\n",
            "   Absences  Tutoring  ParentalSupport  Extracurricular  Sports  Music  \\\n",
            "0         7         1                2                0       0      1   \n",
            "1         0         0                1                0       0      0   \n",
            "2        26         0                2                0       0      0   \n",
            "3        14         0                3                1       0      0   \n",
            "4        17         1                3                0       0      0   \n",
            "\n",
            "   Volunteering       GPA  GradeClass  \n",
            "0             0  2.929196         2.0  \n",
            "1             0  3.042915         1.0  \n",
            "2             0  0.112602         4.0  \n",
            "3             0  2.054218         3.0  \n",
            "4             0  1.288061         4.0  \n"
          ]
        }
      ],
      "source": [
        "# bilbiotecas para realizar operações sobre os dados\n",
        "import pandas as pd\n",
        "import numpy as np\n",
        "import matplotlib.pyplot as plt #Bibliotecas para visualização de dados\n",
        "import seaborn as sns\n",
        "import os\n",
        "# bibliotecas de Aprendizagem de máquina\n",
        "from sklearn.model_selection import train_test_split\n",
        "from sklearn.metrics import accuracy_score\n",
        "\n",
        "# Importando as técnicas de aprendizagem (Classificadores)\n",
        "from sklearn.tree import DecisionTreeClassifier, plot_tree #árvore de decisão\n",
        "from sklearn.metrics import classification_report\n",
        "\n",
        "# df = pd.read_csv(\"Student_performance_data _.csv\", sep=',', encoding='latin1')\n",
        "# df.head(15)\n",
        "\n",
        "\n",
        "caminho_csv = r\"C:\\Users\\Tanus_h\\Documents\\Tanus\\Learning-Factory\\Learning-Factory\\Arvore de decisão - Media escolar\\Student_performance_data _.csv\"\n",
        "\n",
        "\n",
        "\n",
        "df = pd.read_csv(caminho_csv)\n",
        "print(df.head())"
      ]
    },
    {
      "cell_type": "markdown",
      "metadata": {
        "id": "C0wzhIEUliw0"
      },
      "source": [
        "# **MAPEAMENTO**"
      ]
    },
    {
      "cell_type": "markdown",
      "metadata": {
        "id": "dcmv6vIwl5wu"
      },
      "source": [
        "## Visualizando dados"
      ]
    },
    {
      "cell_type": "code",
      "execution_count": null,
      "metadata": {
        "id": "cJXgbGCClED2"
      },
      "outputs": [],
      "source": [
        "print(df.value_counts())"
      ]
    },
    {
      "cell_type": "code",
      "execution_count": null,
      "metadata": {
        "id": "ofQFuZM-lKsL"
      },
      "outputs": [],
      "source": [
        "print(df.dtypes)"
      ]
    },
    {
      "cell_type": "code",
      "execution_count": null,
      "metadata": {
        "id": "yMUQ72OYlzpa"
      },
      "outputs": [],
      "source": [
        "#Retorna a quantidade de dados faltantes\n",
        "print(df.isnull().sum())"
      ]
    },
    {
      "cell_type": "code",
      "execution_count": null,
      "metadata": {
        "id": "ET4UdgCinU1O"
      },
      "outputs": [],
      "source": [
        "print(df.columns)\n"
      ]
    },
    {
      "cell_type": "markdown",
      "metadata": {
        "id": "vkQA1l1Kmu18"
      },
      "source": [
        "# **ANALISE**"
      ]
    },
    {
      "cell_type": "markdown",
      "metadata": {
        "id": "faTdGO0qoQ9X"
      },
      "source": [
        "Analizando o número de alunos por etinia"
      ]
    },
    {
      "cell_type": "markdown",
      "metadata": {
        "id": "H92lRuClwewQ"
      },
      "source": [
        "\n",
        "0.   Caucasiano\n",
        "1.   Afro-americano\n",
        "2.   Asiático\n",
        "3.   Outros\n",
        "\n"
      ]
    },
    {
      "cell_type": "code",
      "execution_count": null,
      "metadata": {
        "id": "9RNWfyuDoQhY"
      },
      "outputs": [],
      "source": [
        "df['Ethnicity'].value_counts()"
      ]
    },
    {
      "cell_type": "markdown",
      "metadata": {
        "id": "BcMGnckPoA5X"
      },
      "source": [
        "Comparando a relação de faltas com o desempenho escolar"
      ]
    },
    {
      "cell_type": "markdown",
      "metadata": {
        "id": "jAt8-ivixFKL"
      },
      "source": [
        "0.   'A' (GPA >= 3.5)\n",
        "1.   'B' (3.0 < = GPA < 3.5)\n",
        "2.   'C' (2.5 <= GPA < 3.0)\n",
        "3.   'D' (2.0 <= GPA < 2.5)\n",
        "4.   'F' (GPA < 2.0)\n",
        "\n"
      ]
    },
    {
      "cell_type": "code",
      "execution_count": null,
      "metadata": {
        "id": "R8BMqQcxnSl2"
      },
      "outputs": [],
      "source": [
        "sns.countplot(data = df, x = 'GradeClass', hue = 'Absences')\n",
        "plt.show()"
      ]
    },
    {
      "cell_type": "code",
      "execution_count": null,
      "metadata": {
        "id": "rjliyCvtoQwi"
      },
      "outputs": [],
      "source": [
        "sns.countplot(data = df, x = 'ParentalSupport', hue = 'GradeClass')\n",
        "plt.show()"
      ]
    },
    {
      "cell_type": "code",
      "execution_count": null,
      "metadata": {
        "id": "4pqTMdqxsKR8"
      },
      "outputs": [],
      "source": [
        "# Boxplots para analisar impacto de StudyTimeWeekly e Ausências na GradeClass\n",
        "plt.figure(figsize=(12,5))\n",
        "\n",
        "plt.subplot(1,2,1)\n",
        "sns.boxplot(x='GradeClass', y='StudyTimeWeekly', data=df)\n",
        "plt.title(\"Tempo de Estudo Semanal vs GradeClass\")\n",
        "\n",
        "plt.subplot(1,2,2)\n",
        "sns.boxplot(x='GradeClass', y='Absences', data=df)\n",
        "plt.title(\"Número de Faltas vs GradeClass\")\n",
        "\n",
        "plt.show()\n"
      ]
    },
    {
      "cell_type": "code",
      "execution_count": null,
      "metadata": {
        "id": "_tDZrVWDspoj"
      },
      "outputs": [],
      "source": [
        "plt.figure(figsize=(8, 5))\n",
        "sns.barplot(x='GradeClass', y='GPA', data=df, errorbar=None, hue='GradeClass', palette='Set2', legend=False)\n",
        "plt.title('Média de desempenho acadêmico por nota', fontsize=14)\n",
        "plt.xlabel('GradeClass')\n",
        "plt.ylabel('GPA Médio')\n",
        "plt.grid(axis='y', linestyle='--', alpha=0.7)\n",
        "plt.show()"
      ]
    },
    {
      "cell_type": "code",
      "execution_count": null,
      "metadata": {
        "id": "Z_bKaDnctGCg"
      },
      "outputs": [],
      "source": [
        "import matplotlib.pyplot as plt\n",
        "import pandas as pd\n",
        "\n",
        "# Definindo as faixas de GPA\n",
        "gpa_bins = [0, 1, 2, 3, 4]\n",
        "gpa_labels = ['0-1', '1-2', '2-3', '3-4']\n",
        "\n",
        "# Criando uma nova coluna para os intervalos de GPA\n",
        "df['GPABin'] = pd.cut(df['GPA'], bins=gpa_bins, labels=gpa_labels, right=False)\n",
        "\n",
        "# Calculando a média de StudyTimeWeekly para cada faixa de GPA\n",
        "mean_study_time_by_gpa = df.groupby('GPABin')['StudyTimeWeekly'].mean()\n",
        "\n",
        "# Lista de cores personalizadas para as barras\n",
        "bar_colors = ['lightcoral', 'lightblue', 'lightgreen', 'lightsalmon']\n",
        "\n",
        "# Criando o gráfico de barras com cores personalizadas\n",
        "plt.figure(figsize=(8, 5))\n",
        "mean_study_time_by_gpa.plot(kind='bar', color=bar_colors)\n",
        "plt.xlabel('Faixa de GPA')\n",
        "plt.ylabel('Média de Tempo de Estudo por Semana')\n",
        "plt.title('Média de Tempo de Estudo por Faixa de GPA')\n",
        "plt.xticks(rotation=0)\n",
        "plt.tight_layout()\n",
        "plt.show()\n"
      ]
    },
    {
      "cell_type": "markdown",
      "metadata": {
        "id": "g9fh2OYMwR3z"
      },
      "source": [
        "Importancia das variaveis"
      ]
    },
    {
      "cell_type": "code",
      "execution_count": null,
      "metadata": {
        "id": "0yWAntTCqt27"
      },
      "outputs": [],
      "source": [
        "import numpy as np\n",
        "import pandas as pd\n",
        "\n",
        "# Obtendo a importância das variáveis\n",
        "importances = DT.feature_importances_\n",
        "\n",
        "# Criando um DataFrame para melhor visualização\n",
        "feature_importance = pd.DataFrame({'Feature': X.columns, 'Importance': importances})\n",
        "\n",
        "# Removendo StudentID da lista de importância\n",
        "feature_importance = feature_importance[feature_importance['Feature'] != 'StudentID']\n",
        "\n",
        "# Ordenando pela importância de forma decrescente\n",
        "feature_importance = feature_importance.sort_values(by='Importance', ascending=False)\n",
        "\n",
        "# Exibir a importância das variáveis\n",
        "print(feature_importance)"
      ]
    },
    {
      "cell_type": "markdown",
      "metadata": {
        "id": "YXYrgyzlzLai"
      },
      "source": [
        "Arvore de decisão"
      ]
    },
    {
      "cell_type": "code",
      "execution_count": null,
      "metadata": {
        "id": "2QlIybRa1cJa"
      },
      "outputs": [],
      "source": [
        "X = df.drop(['GradeClass', 'StudentID','StudyTimeBin','GPABin'], axis=1)   # Removendo 'StudentID' e 'GradeClass' de X\n",
        "Y = df['GradeClass']  # Variável alvo\n",
        "\n",
        "# Função para particionar os dados em treino e teste\n",
        "X_train, X_test, y_train, y_test = train_test_split(X, Y, stratify=Y, test_size=0.2, random_state=0)\n",
        "\n",
        "# Técnica de Árvore de Decisão\n",
        "DT = DecisionTreeClassifier(max_depth=3)\n",
        "\n",
        "# O comando fit recebe X e Y (treino) para aprender os padrões\n",
        "DT.fit(X_train, y_train)\n",
        "\n",
        "# O comando predict retorna predições\n",
        "DT_pred = DT.predict(X_test)\n",
        "\n",
        "# Acurácia da Árvore de Decisão\n",
        "print(\"Acurácia da Árvore de Decisão:\", accuracy_score(y_test, DT_pred))\n",
        "\n",
        "# Exibe a estrutura do modelo de Árvore de Decisão\n",
        "plt.figure(figsize=(13, 13))\n",
        "caracteristicas_names = X.columns.tolist()\n",
        "rotulo_name = Y.unique().astype(str).tolist()\n",
        "plot_tree(DT,\n",
        "          feature_names=caracteristicas_names,  # Nomes das características\n",
        "          class_names=rotulo_name,    # Nomes das classes do rótulo\n",
        "          filled=True,                # Preencher com cores\n",
        "          rounded=True)               # Nós arredondados\n",
        "plt.show()\n"
      ]
    }
  ],
  "metadata": {
    "colab": {
      "collapsed_sections": [
        "rCZnVYUslVzh",
        "dcmv6vIwl5wu"
      ],
      "provenance": [],
      "toc_visible": true
    },
    "kernelspec": {
      "display_name": "venv_tree",
      "language": "python",
      "name": "python3"
    },
    "language_info": {
      "codemirror_mode": {
        "name": "ipython",
        "version": 3
      },
      "file_extension": ".py",
      "mimetype": "text/x-python",
      "name": "python",
      "nbconvert_exporter": "python",
      "pygments_lexer": "ipython3",
      "version": "3.12.6"
    }
  },
  "nbformat": 4,
  "nbformat_minor": 0
}
